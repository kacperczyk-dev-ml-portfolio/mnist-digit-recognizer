{
 "cells": [
  {
   "cell_type": "markdown",
   "source": [
    "# Digit Recognizer - MNIST\n",
    "##### https://www.kaggle.com/competitions/digit-recognizer"
   ],
   "metadata": {
    "collapsed": false
   }
  },
  {
   "cell_type": "markdown",
   "source": [
    "### Imports\n"
   ],
   "metadata": {
    "collapsed": false
   }
  },
  {
   "cell_type": "code",
   "execution_count": 128,
   "outputs": [],
   "source": [
    "import pandas as pd\n",
    "import numpy as np\n",
    "from matplotlib import pyplot as plt"
   ],
   "metadata": {
    "collapsed": false
   }
  },
  {
   "cell_type": "markdown",
   "source": [
    "### Load Data"
   ],
   "metadata": {
    "collapsed": false
   }
  },
  {
   "cell_type": "code",
   "execution_count": 129,
   "outputs": [
    {
     "data": {
      "text/plain": "   label  pixel0  pixel1  pixel2  pixel3  pixel4  pixel5  pixel6  pixel7  \\\n0      1       0       0       0       0       0       0       0       0   \n1      0       0       0       0       0       0       0       0       0   \n2      1       0       0       0       0       0       0       0       0   \n3      4       0       0       0       0       0       0       0       0   \n4      0       0       0       0       0       0       0       0       0   \n\n   pixel8  ...  pixel774  pixel775  pixel776  pixel777  pixel778  pixel779  \\\n0       0  ...         0         0         0         0         0         0   \n1       0  ...         0         0         0         0         0         0   \n2       0  ...         0         0         0         0         0         0   \n3       0  ...         0         0         0         0         0         0   \n4       0  ...         0         0         0         0         0         0   \n\n   pixel780  pixel781  pixel782  pixel783  \n0         0         0         0         0  \n1         0         0         0         0  \n2         0         0         0         0  \n3         0         0         0         0  \n4         0         0         0         0  \n\n[5 rows x 785 columns]",
      "text/html": "<div>\n<style scoped>\n    .dataframe tbody tr th:only-of-type {\n        vertical-align: middle;\n    }\n\n    .dataframe tbody tr th {\n        vertical-align: top;\n    }\n\n    .dataframe thead th {\n        text-align: right;\n    }\n</style>\n<table border=\"1\" class=\"dataframe\">\n  <thead>\n    <tr style=\"text-align: right;\">\n      <th></th>\n      <th>label</th>\n      <th>pixel0</th>\n      <th>pixel1</th>\n      <th>pixel2</th>\n      <th>pixel3</th>\n      <th>pixel4</th>\n      <th>pixel5</th>\n      <th>pixel6</th>\n      <th>pixel7</th>\n      <th>pixel8</th>\n      <th>...</th>\n      <th>pixel774</th>\n      <th>pixel775</th>\n      <th>pixel776</th>\n      <th>pixel777</th>\n      <th>pixel778</th>\n      <th>pixel779</th>\n      <th>pixel780</th>\n      <th>pixel781</th>\n      <th>pixel782</th>\n      <th>pixel783</th>\n    </tr>\n  </thead>\n  <tbody>\n    <tr>\n      <th>0</th>\n      <td>1</td>\n      <td>0</td>\n      <td>0</td>\n      <td>0</td>\n      <td>0</td>\n      <td>0</td>\n      <td>0</td>\n      <td>0</td>\n      <td>0</td>\n      <td>0</td>\n      <td>...</td>\n      <td>0</td>\n      <td>0</td>\n      <td>0</td>\n      <td>0</td>\n      <td>0</td>\n      <td>0</td>\n      <td>0</td>\n      <td>0</td>\n      <td>0</td>\n      <td>0</td>\n    </tr>\n    <tr>\n      <th>1</th>\n      <td>0</td>\n      <td>0</td>\n      <td>0</td>\n      <td>0</td>\n      <td>0</td>\n      <td>0</td>\n      <td>0</td>\n      <td>0</td>\n      <td>0</td>\n      <td>0</td>\n      <td>...</td>\n      <td>0</td>\n      <td>0</td>\n      <td>0</td>\n      <td>0</td>\n      <td>0</td>\n      <td>0</td>\n      <td>0</td>\n      <td>0</td>\n      <td>0</td>\n      <td>0</td>\n    </tr>\n    <tr>\n      <th>2</th>\n      <td>1</td>\n      <td>0</td>\n      <td>0</td>\n      <td>0</td>\n      <td>0</td>\n      <td>0</td>\n      <td>0</td>\n      <td>0</td>\n      <td>0</td>\n      <td>0</td>\n      <td>...</td>\n      <td>0</td>\n      <td>0</td>\n      <td>0</td>\n      <td>0</td>\n      <td>0</td>\n      <td>0</td>\n      <td>0</td>\n      <td>0</td>\n      <td>0</td>\n      <td>0</td>\n    </tr>\n    <tr>\n      <th>3</th>\n      <td>4</td>\n      <td>0</td>\n      <td>0</td>\n      <td>0</td>\n      <td>0</td>\n      <td>0</td>\n      <td>0</td>\n      <td>0</td>\n      <td>0</td>\n      <td>0</td>\n      <td>...</td>\n      <td>0</td>\n      <td>0</td>\n      <td>0</td>\n      <td>0</td>\n      <td>0</td>\n      <td>0</td>\n      <td>0</td>\n      <td>0</td>\n      <td>0</td>\n      <td>0</td>\n    </tr>\n    <tr>\n      <th>4</th>\n      <td>0</td>\n      <td>0</td>\n      <td>0</td>\n      <td>0</td>\n      <td>0</td>\n      <td>0</td>\n      <td>0</td>\n      <td>0</td>\n      <td>0</td>\n      <td>0</td>\n      <td>...</td>\n      <td>0</td>\n      <td>0</td>\n      <td>0</td>\n      <td>0</td>\n      <td>0</td>\n      <td>0</td>\n      <td>0</td>\n      <td>0</td>\n      <td>0</td>\n      <td>0</td>\n    </tr>\n  </tbody>\n</table>\n<p>5 rows × 785 columns</p>\n</div>"
     },
     "execution_count": 129,
     "metadata": {},
     "output_type": "execute_result"
    }
   ],
   "source": [
    "# In each row, first column contains a label (digit). The remainder 784 columns (28px x 28px image) contain pixel values of 0-255.\n",
    "mnist_data = pd.read_csv(\"data/train.csv\")\n",
    "mnist_data.head()"
   ],
   "metadata": {
    "collapsed": false
   }
  },
  {
   "cell_type": "markdown",
   "source": [
    "### Transform Data"
   ],
   "metadata": {
    "collapsed": false
   }
  },
  {
   "cell_type": "code",
   "execution_count": 130,
   "outputs": [
    {
     "data": {
      "text/plain": "       label  pixel0  pixel1  pixel2  pixel3  pixel4  pixel5  pixel6  pixel7  \\\n10330      5       0       0       0       0       0       0       0       0   \n16511      9       0       0       0       0       0       0       0       0   \n23550      7       0       0       0       0       0       0       0       0   \n27193      7       0       0       0       0       0       0       0       0   \n36723      8       0       0       0       0       0       0       0       0   \n...      ...     ...     ...     ...     ...     ...     ...     ...     ...   \n16801      5       0       0       0       0       0       0       0       0   \n20505      3       0       0       0       0       0       0       0       0   \n9818       8       0       0       0       0       0       0       0       0   \n33393      4       0       0       0       0       0       0       0       0   \n20667      3       0       0       0       0       0       0       0       0   \n\n       pixel8  ...  pixel774  pixel775  pixel776  pixel777  pixel778  \\\n10330       0  ...         0         0         0         0         0   \n16511       0  ...         0         0         0         0         0   \n23550       0  ...         0         0         0         0         0   \n27193       0  ...         0         0         0         0         0   \n36723       0  ...         0         0         0         0         0   \n...       ...  ...       ...       ...       ...       ...       ...   \n16801       0  ...         0         0         0         0         0   \n20505       0  ...         0         0         0         0         0   \n9818        0  ...         0         0         0         0         0   \n33393       0  ...         0         0         0         0         0   \n20667       0  ...         0         0         0         0         0   \n\n       pixel779  pixel780  pixel781  pixel782  pixel783  \n10330         0         0         0         0         0  \n16511         0         0         0         0         0  \n23550         0         0         0         0         0  \n27193         0         0         0         0         0  \n36723         0         0         0         0         0  \n...         ...       ...       ...       ...       ...  \n16801         0         0         0         0         0  \n20505         0         0         0         0         0  \n9818          0         0         0         0         0  \n33393         0         0         0         0         0  \n20667         0         0         0         0         0  \n\n[42000 rows x 785 columns]",
      "text/html": "<div>\n<style scoped>\n    .dataframe tbody tr th:only-of-type {\n        vertical-align: middle;\n    }\n\n    .dataframe tbody tr th {\n        vertical-align: top;\n    }\n\n    .dataframe thead th {\n        text-align: right;\n    }\n</style>\n<table border=\"1\" class=\"dataframe\">\n  <thead>\n    <tr style=\"text-align: right;\">\n      <th></th>\n      <th>label</th>\n      <th>pixel0</th>\n      <th>pixel1</th>\n      <th>pixel2</th>\n      <th>pixel3</th>\n      <th>pixel4</th>\n      <th>pixel5</th>\n      <th>pixel6</th>\n      <th>pixel7</th>\n      <th>pixel8</th>\n      <th>...</th>\n      <th>pixel774</th>\n      <th>pixel775</th>\n      <th>pixel776</th>\n      <th>pixel777</th>\n      <th>pixel778</th>\n      <th>pixel779</th>\n      <th>pixel780</th>\n      <th>pixel781</th>\n      <th>pixel782</th>\n      <th>pixel783</th>\n    </tr>\n  </thead>\n  <tbody>\n    <tr>\n      <th>10330</th>\n      <td>5</td>\n      <td>0</td>\n      <td>0</td>\n      <td>0</td>\n      <td>0</td>\n      <td>0</td>\n      <td>0</td>\n      <td>0</td>\n      <td>0</td>\n      <td>0</td>\n      <td>...</td>\n      <td>0</td>\n      <td>0</td>\n      <td>0</td>\n      <td>0</td>\n      <td>0</td>\n      <td>0</td>\n      <td>0</td>\n      <td>0</td>\n      <td>0</td>\n      <td>0</td>\n    </tr>\n    <tr>\n      <th>16511</th>\n      <td>9</td>\n      <td>0</td>\n      <td>0</td>\n      <td>0</td>\n      <td>0</td>\n      <td>0</td>\n      <td>0</td>\n      <td>0</td>\n      <td>0</td>\n      <td>0</td>\n      <td>...</td>\n      <td>0</td>\n      <td>0</td>\n      <td>0</td>\n      <td>0</td>\n      <td>0</td>\n      <td>0</td>\n      <td>0</td>\n      <td>0</td>\n      <td>0</td>\n      <td>0</td>\n    </tr>\n    <tr>\n      <th>23550</th>\n      <td>7</td>\n      <td>0</td>\n      <td>0</td>\n      <td>0</td>\n      <td>0</td>\n      <td>0</td>\n      <td>0</td>\n      <td>0</td>\n      <td>0</td>\n      <td>0</td>\n      <td>...</td>\n      <td>0</td>\n      <td>0</td>\n      <td>0</td>\n      <td>0</td>\n      <td>0</td>\n      <td>0</td>\n      <td>0</td>\n      <td>0</td>\n      <td>0</td>\n      <td>0</td>\n    </tr>\n    <tr>\n      <th>27193</th>\n      <td>7</td>\n      <td>0</td>\n      <td>0</td>\n      <td>0</td>\n      <td>0</td>\n      <td>0</td>\n      <td>0</td>\n      <td>0</td>\n      <td>0</td>\n      <td>0</td>\n      <td>...</td>\n      <td>0</td>\n      <td>0</td>\n      <td>0</td>\n      <td>0</td>\n      <td>0</td>\n      <td>0</td>\n      <td>0</td>\n      <td>0</td>\n      <td>0</td>\n      <td>0</td>\n    </tr>\n    <tr>\n      <th>36723</th>\n      <td>8</td>\n      <td>0</td>\n      <td>0</td>\n      <td>0</td>\n      <td>0</td>\n      <td>0</td>\n      <td>0</td>\n      <td>0</td>\n      <td>0</td>\n      <td>0</td>\n      <td>...</td>\n      <td>0</td>\n      <td>0</td>\n      <td>0</td>\n      <td>0</td>\n      <td>0</td>\n      <td>0</td>\n      <td>0</td>\n      <td>0</td>\n      <td>0</td>\n      <td>0</td>\n    </tr>\n    <tr>\n      <th>...</th>\n      <td>...</td>\n      <td>...</td>\n      <td>...</td>\n      <td>...</td>\n      <td>...</td>\n      <td>...</td>\n      <td>...</td>\n      <td>...</td>\n      <td>...</td>\n      <td>...</td>\n      <td>...</td>\n      <td>...</td>\n      <td>...</td>\n      <td>...</td>\n      <td>...</td>\n      <td>...</td>\n      <td>...</td>\n      <td>...</td>\n      <td>...</td>\n      <td>...</td>\n      <td>...</td>\n    </tr>\n    <tr>\n      <th>16801</th>\n      <td>5</td>\n      <td>0</td>\n      <td>0</td>\n      <td>0</td>\n      <td>0</td>\n      <td>0</td>\n      <td>0</td>\n      <td>0</td>\n      <td>0</td>\n      <td>0</td>\n      <td>...</td>\n      <td>0</td>\n      <td>0</td>\n      <td>0</td>\n      <td>0</td>\n      <td>0</td>\n      <td>0</td>\n      <td>0</td>\n      <td>0</td>\n      <td>0</td>\n      <td>0</td>\n    </tr>\n    <tr>\n      <th>20505</th>\n      <td>3</td>\n      <td>0</td>\n      <td>0</td>\n      <td>0</td>\n      <td>0</td>\n      <td>0</td>\n      <td>0</td>\n      <td>0</td>\n      <td>0</td>\n      <td>0</td>\n      <td>...</td>\n      <td>0</td>\n      <td>0</td>\n      <td>0</td>\n      <td>0</td>\n      <td>0</td>\n      <td>0</td>\n      <td>0</td>\n      <td>0</td>\n      <td>0</td>\n      <td>0</td>\n    </tr>\n    <tr>\n      <th>9818</th>\n      <td>8</td>\n      <td>0</td>\n      <td>0</td>\n      <td>0</td>\n      <td>0</td>\n      <td>0</td>\n      <td>0</td>\n      <td>0</td>\n      <td>0</td>\n      <td>0</td>\n      <td>...</td>\n      <td>0</td>\n      <td>0</td>\n      <td>0</td>\n      <td>0</td>\n      <td>0</td>\n      <td>0</td>\n      <td>0</td>\n      <td>0</td>\n      <td>0</td>\n      <td>0</td>\n    </tr>\n    <tr>\n      <th>33393</th>\n      <td>4</td>\n      <td>0</td>\n      <td>0</td>\n      <td>0</td>\n      <td>0</td>\n      <td>0</td>\n      <td>0</td>\n      <td>0</td>\n      <td>0</td>\n      <td>0</td>\n      <td>...</td>\n      <td>0</td>\n      <td>0</td>\n      <td>0</td>\n      <td>0</td>\n      <td>0</td>\n      <td>0</td>\n      <td>0</td>\n      <td>0</td>\n      <td>0</td>\n      <td>0</td>\n    </tr>\n    <tr>\n      <th>20667</th>\n      <td>3</td>\n      <td>0</td>\n      <td>0</td>\n      <td>0</td>\n      <td>0</td>\n      <td>0</td>\n      <td>0</td>\n      <td>0</td>\n      <td>0</td>\n      <td>0</td>\n      <td>...</td>\n      <td>0</td>\n      <td>0</td>\n      <td>0</td>\n      <td>0</td>\n      <td>0</td>\n      <td>0</td>\n      <td>0</td>\n      <td>0</td>\n      <td>0</td>\n      <td>0</td>\n    </tr>\n  </tbody>\n</table>\n<p>42000 rows × 785 columns</p>\n</div>"
     },
     "execution_count": 130,
     "metadata": {},
     "output_type": "execute_result"
    }
   ],
   "source": [
    "# Shuffle data\n",
    "mnist_data = mnist_data.sample(frac=1, axis=0)\n",
    "mnist_data"
   ],
   "metadata": {
    "collapsed": false
   }
  },
  {
   "cell_type": "code",
   "execution_count": 131,
   "outputs": [
    {
     "data": {
      "text/plain": "        10330  16511  23550  27193  36723  10388  18285  41098  28705  16494  \\\nlabel       5      9      7      7      8      6      7      9      4      4   \npixel0      0      0      0      0      0      0      0      0      0      0   \npixel1      0      0      0      0      0      0      0      0      0      0   \npixel2      0      0      0      0      0      0      0      0      0      0   \npixel3      0      0      0      0      0      0      0      0      0      0   \n\n        ...  25712  21278  29507  24407  29911  16801  20505  9818   33393  \\\nlabel   ...      6      1      7      3      9      5      3      8      4   \npixel0  ...      0      0      0      0      0      0      0      0      0   \npixel1  ...      0      0      0      0      0      0      0      0      0   \npixel2  ...      0      0      0      0      0      0      0      0      0   \npixel3  ...      0      0      0      0      0      0      0      0      0   \n\n        20667  \nlabel       3  \npixel0      0  \npixel1      0  \npixel2      0  \npixel3      0  \n\n[5 rows x 42000 columns]",
      "text/html": "<div>\n<style scoped>\n    .dataframe tbody tr th:only-of-type {\n        vertical-align: middle;\n    }\n\n    .dataframe tbody tr th {\n        vertical-align: top;\n    }\n\n    .dataframe thead th {\n        text-align: right;\n    }\n</style>\n<table border=\"1\" class=\"dataframe\">\n  <thead>\n    <tr style=\"text-align: right;\">\n      <th></th>\n      <th>10330</th>\n      <th>16511</th>\n      <th>23550</th>\n      <th>27193</th>\n      <th>36723</th>\n      <th>10388</th>\n      <th>18285</th>\n      <th>41098</th>\n      <th>28705</th>\n      <th>16494</th>\n      <th>...</th>\n      <th>25712</th>\n      <th>21278</th>\n      <th>29507</th>\n      <th>24407</th>\n      <th>29911</th>\n      <th>16801</th>\n      <th>20505</th>\n      <th>9818</th>\n      <th>33393</th>\n      <th>20667</th>\n    </tr>\n  </thead>\n  <tbody>\n    <tr>\n      <th>label</th>\n      <td>5</td>\n      <td>9</td>\n      <td>7</td>\n      <td>7</td>\n      <td>8</td>\n      <td>6</td>\n      <td>7</td>\n      <td>9</td>\n      <td>4</td>\n      <td>4</td>\n      <td>...</td>\n      <td>6</td>\n      <td>1</td>\n      <td>7</td>\n      <td>3</td>\n      <td>9</td>\n      <td>5</td>\n      <td>3</td>\n      <td>8</td>\n      <td>4</td>\n      <td>3</td>\n    </tr>\n    <tr>\n      <th>pixel0</th>\n      <td>0</td>\n      <td>0</td>\n      <td>0</td>\n      <td>0</td>\n      <td>0</td>\n      <td>0</td>\n      <td>0</td>\n      <td>0</td>\n      <td>0</td>\n      <td>0</td>\n      <td>...</td>\n      <td>0</td>\n      <td>0</td>\n      <td>0</td>\n      <td>0</td>\n      <td>0</td>\n      <td>0</td>\n      <td>0</td>\n      <td>0</td>\n      <td>0</td>\n      <td>0</td>\n    </tr>\n    <tr>\n      <th>pixel1</th>\n      <td>0</td>\n      <td>0</td>\n      <td>0</td>\n      <td>0</td>\n      <td>0</td>\n      <td>0</td>\n      <td>0</td>\n      <td>0</td>\n      <td>0</td>\n      <td>0</td>\n      <td>...</td>\n      <td>0</td>\n      <td>0</td>\n      <td>0</td>\n      <td>0</td>\n      <td>0</td>\n      <td>0</td>\n      <td>0</td>\n      <td>0</td>\n      <td>0</td>\n      <td>0</td>\n    </tr>\n    <tr>\n      <th>pixel2</th>\n      <td>0</td>\n      <td>0</td>\n      <td>0</td>\n      <td>0</td>\n      <td>0</td>\n      <td>0</td>\n      <td>0</td>\n      <td>0</td>\n      <td>0</td>\n      <td>0</td>\n      <td>...</td>\n      <td>0</td>\n      <td>0</td>\n      <td>0</td>\n      <td>0</td>\n      <td>0</td>\n      <td>0</td>\n      <td>0</td>\n      <td>0</td>\n      <td>0</td>\n      <td>0</td>\n    </tr>\n    <tr>\n      <th>pixel3</th>\n      <td>0</td>\n      <td>0</td>\n      <td>0</td>\n      <td>0</td>\n      <td>0</td>\n      <td>0</td>\n      <td>0</td>\n      <td>0</td>\n      <td>0</td>\n      <td>0</td>\n      <td>...</td>\n      <td>0</td>\n      <td>0</td>\n      <td>0</td>\n      <td>0</td>\n      <td>0</td>\n      <td>0</td>\n      <td>0</td>\n      <td>0</td>\n      <td>0</td>\n      <td>0</td>\n    </tr>\n  </tbody>\n</table>\n<p>5 rows × 42000 columns</p>\n</div>"
     },
     "execution_count": 131,
     "metadata": {},
     "output_type": "execute_result"
    }
   ],
   "source": [
    "# Transpose the data so that the first row will be equal to all the labels and the remainder of rows in each column will be the corresponding pixel value\n",
    "transposed_mnist_data = mnist_data.T\n",
    "transposed_mnist_data.head()"
   ],
   "metadata": {
    "collapsed": false
   }
  },
  {
   "cell_type": "code",
   "execution_count": 132,
   "outputs": [],
   "source": [
    "# Create NumPy array from Pandas dataframe\n",
    "mnist_data_arr = transposed_mnist_data.values"
   ],
   "metadata": {
    "collapsed": false
   }
  },
  {
   "cell_type": "code",
   "execution_count": 133,
   "outputs": [
    {
     "data": {
      "text/plain": "array([[5, 9, 7, ..., 8, 4, 3],\n       [0, 0, 0, ..., 0, 0, 0],\n       [0, 0, 0, ..., 0, 0, 0],\n       ...,\n       [0, 0, 0, ..., 0, 0, 0],\n       [0, 0, 0, ..., 0, 0, 0],\n       [0, 0, 0, ..., 0, 0, 0]])"
     },
     "execution_count": 133,
     "metadata": {},
     "output_type": "execute_result"
    }
   ],
   "source": [
    "mnist_data_arr"
   ],
   "metadata": {
    "collapsed": false
   }
  },
  {
   "cell_type": "code",
   "execution_count": 134,
   "outputs": [
    {
     "data": {
      "text/plain": "array([7, 7, 8, ..., 8, 4, 3])"
     },
     "execution_count": 134,
     "metadata": {},
     "output_type": "execute_result"
    }
   ],
   "source": [
    "Y = mnist_data_arr[0, 1000:]\n",
    "Y"
   ],
   "metadata": {
    "collapsed": false
   }
  },
  {
   "cell_type": "code",
   "execution_count": 135,
   "outputs": [
    {
     "data": {
      "text/plain": "array([5, 9, 7, 7, 8, 6, 7, 9, 4, 4, 5, 9, 5, 8, 3, 9, 8, 9, 8, 8, 4, 3,\n       1, 2, 2, 9, 9, 1, 2, 7, 5, 2, 8, 3, 1, 6, 9, 6, 7, 0, 3, 2, 2, 4,\n       8, 4, 0, 1, 5, 0, 0, 1, 9, 5, 4, 1, 6, 1, 3, 6, 4, 7, 5, 4, 3, 0,\n       7, 3, 8, 2, 0, 5, 5, 4, 5, 1, 3, 8, 3, 4, 3, 9, 0, 4, 2, 8, 1, 6,\n       7, 2, 7, 7, 5, 0, 0, 7, 8, 7, 7, 3, 2, 6, 9, 9, 7, 1, 5, 7, 1, 0,\n       8, 9, 9, 9, 0, 9, 9, 8, 0, 8, 3, 9, 2, 0, 9, 0, 0, 2, 7, 2, 3, 0,\n       8, 2, 3, 0, 5, 7, 6, 1, 1, 7, 3, 0, 2, 6, 6, 3, 2, 9, 1, 9, 7, 4,\n       8, 2, 5, 8, 4, 8, 4, 7, 2, 9, 1, 5, 7, 0, 2, 9, 7, 8, 2, 6, 9, 7,\n       5, 1, 1, 4, 3, 3, 7, 1, 4, 6, 5, 7, 7, 3, 4, 2, 9, 8, 3, 9, 7, 8,\n       0, 4, 5, 2, 3, 2, 1, 5, 6, 5, 6, 3, 2, 5, 5, 1, 2, 2, 7, 2, 4, 3,\n       2, 7, 0, 9, 3, 8, 7, 3, 9, 6, 1, 8, 5, 0, 1, 4, 3, 7, 6, 3, 4, 3,\n       4, 1, 1, 4, 0, 9, 8, 4, 9, 7, 5, 0, 8, 9, 7, 4, 8, 2, 1, 8, 1, 6,\n       3, 0, 8, 8, 5, 7, 9, 6, 0, 1, 6, 7, 2, 3, 9, 2, 7, 9, 9, 2, 1, 7,\n       1, 1, 2, 1, 2, 6, 5, 5, 5, 7, 5, 6, 3, 0, 5, 6, 6, 1, 8, 9, 5, 7,\n       2, 3, 2, 6, 2, 6, 0, 5, 2, 0, 1, 8, 8, 1, 1, 4, 1, 5, 9, 1, 4, 9,\n       9, 8, 6, 7, 6, 6, 8, 2, 3, 6, 3, 4, 2, 3, 2, 9, 9, 9, 6, 2, 6, 6,\n       6, 9, 6, 6, 9, 4, 8, 1, 3, 0, 4, 2, 5, 8, 9, 5, 1, 1, 8, 1, 7, 9,\n       2, 8, 5, 0, 1, 9, 2, 8, 5, 5, 5, 8, 4, 3, 9, 7, 4, 2, 7, 9, 7, 5,\n       5, 5, 9, 9, 1, 7, 7, 8, 2, 7, 5, 8, 9, 9, 0, 2, 1, 1, 2, 9, 6, 1,\n       6, 3, 1, 8, 8, 1, 6, 6, 6, 7, 5, 6, 2, 7, 3, 8, 9, 8, 6, 6, 5, 7,\n       4, 0, 1, 5, 8, 7, 9, 6, 2, 9, 8, 6, 5, 2, 6, 2, 6, 5, 7, 9, 5, 5,\n       7, 1, 5, 3, 8, 7, 8, 2, 8, 7, 4, 5, 3, 6, 3, 8, 4, 0, 3, 9, 6, 5,\n       8, 6, 0, 2, 1, 3, 7, 1, 6, 4, 1, 6, 8, 1, 6, 6, 5, 3, 9, 2, 5, 5,\n       4, 8, 2, 4, 0, 9, 4, 6, 0, 0, 6, 7, 8, 7, 4, 4, 1, 4, 6, 7, 2, 4,\n       4, 9, 0, 6, 9, 1, 1, 0, 5, 6, 7, 3, 4, 4, 3, 8, 0, 4, 0, 5, 2, 1,\n       8, 7, 9, 6, 1, 0, 2, 1, 1, 7, 1, 6, 9, 9, 8, 7, 2, 7, 5, 8, 1, 0,\n       1, 4, 8, 7, 1, 9, 2, 1, 7, 8, 4, 8, 5, 3, 1, 2, 8, 3, 7, 9, 0, 9,\n       4, 5, 7, 6, 6, 0, 1, 8, 4, 2, 1, 8, 7, 8, 4, 7, 5, 8, 3, 0, 9, 7,\n       0, 5, 9, 1, 8, 9, 4, 5, 6, 9, 2, 9, 8, 1, 8, 5, 4, 8, 1, 3, 8, 7,\n       2, 5, 9, 2, 8, 2, 3, 0, 8, 2, 2, 9, 8, 7, 0, 4, 4, 4, 6, 2, 8, 1,\n       4, 0, 2, 4, 9, 8, 0, 4, 2, 6, 0, 1, 1, 8, 8, 1, 8, 2, 0, 9, 2, 4,\n       9, 3, 4, 6, 9, 8, 5, 8, 0, 2, 7, 8, 1, 2, 7, 3, 9, 7, 3, 6, 8, 4,\n       1, 5, 0, 2, 6, 6, 7, 8, 8, 6, 0, 8, 9, 9, 3, 1, 0, 6, 1, 4, 4, 3,\n       0, 6, 6, 4, 2, 4, 6, 1, 5, 7, 2, 1, 8, 5, 9, 0, 2, 9, 6, 7, 7, 1,\n       0, 9, 5, 9, 6, 3, 9, 5, 3, 4, 9, 2, 7, 1, 2, 6, 8, 2, 2, 5, 4, 3,\n       2, 3, 2, 1, 9, 8, 3, 1, 0, 3, 1, 1, 2, 5, 8, 4, 8, 9, 0, 6, 9, 7,\n       5, 3, 5, 9, 9, 1, 5, 0, 4, 6, 5, 2, 7, 9, 8, 8, 1, 3, 4, 6, 5, 4,\n       7, 7, 9, 3, 3, 2, 2, 4, 9, 5, 5, 1, 5, 7, 5, 5, 7, 9, 9, 5, 2, 0,\n       7, 9, 4, 6, 9, 3, 8, 5, 0, 2, 0, 1, 8, 1, 5, 9, 7, 8, 6, 2, 3, 0,\n       4, 9, 4, 3, 0, 5, 3, 0, 5, 8, 3, 5, 9, 6, 5, 7, 4, 2, 1, 1, 5, 0,\n       3, 4, 2, 3, 2, 1, 1, 7, 6, 5, 2, 1, 9, 0, 2, 9, 8, 1, 7, 5, 4, 0,\n       9, 6, 2, 6, 6, 2, 1, 5, 5, 4, 3, 0, 1, 3, 0, 2, 9, 0, 5, 0, 5, 9,\n       0, 8, 3, 1, 6, 3, 5, 2, 3, 6, 4, 3, 0, 6, 7, 9, 9, 5, 2, 0, 1, 1,\n       2, 8, 8, 9, 3, 5, 9, 2, 8, 2, 7, 2, 4, 5, 8, 1, 8, 2, 9, 2, 8, 0,\n       7, 4, 8, 7, 7, 5, 6, 3, 9, 8, 5, 5, 9, 9, 6, 3, 2, 2, 8, 5, 3, 0,\n       7, 1, 3, 7, 6, 4, 5, 1, 2, 0])"
     },
     "execution_count": 135,
     "metadata": {},
     "output_type": "execute_result"
    }
   ],
   "source": [
    "Y_test = mnist_data_arr[0, :1000]\n",
    "Y_test"
   ],
   "metadata": {
    "collapsed": false
   }
  },
  {
   "cell_type": "code",
   "execution_count": 136,
   "outputs": [
    {
     "data": {
      "text/plain": "array([[0., 0., 0., ..., 0., 0., 0.],\n       [0., 0., 0., ..., 0., 0., 0.],\n       [0., 0., 0., ..., 0., 0., 0.],\n       ...,\n       [0., 0., 0., ..., 0., 0., 0.],\n       [0., 0., 0., ..., 0., 0., 0.],\n       [0., 0., 0., ..., 0., 0., 0.]])"
     },
     "execution_count": 136,
     "metadata": {},
     "output_type": "execute_result"
    }
   ],
   "source": [
    "# Get all rows except the first one (because it contains labels), each column is one example\n",
    "# Since the pixelvalues are 0-255 we divide them by 255 to get values between 0 and 1 as activations of the input layer\n",
    "# Each row is one example\n",
    "X = (mnist_data_arr[1:, 1000:] / 255.0)\n",
    "X"
   ],
   "metadata": {
    "collapsed": false
   }
  },
  {
   "cell_type": "code",
   "execution_count": 137,
   "outputs": [
    {
     "data": {
      "text/plain": "array([[0., 0., 0., ..., 0., 0., 0.],\n       [0., 0., 0., ..., 0., 0., 0.],\n       [0., 0., 0., ..., 0., 0., 0.],\n       ...,\n       [0., 0., 0., ..., 0., 0., 0.],\n       [0., 0., 0., ..., 0., 0., 0.],\n       [0., 0., 0., ..., 0., 0., 0.]])"
     },
     "execution_count": 137,
     "metadata": {},
     "output_type": "execute_result"
    }
   ],
   "source": [
    "X_test = (mnist_data_arr[1:, :1000] / 255.0)\n",
    "X_test"
   ],
   "metadata": {
    "collapsed": false
   }
  },
  {
   "cell_type": "code",
   "execution_count": 138,
   "outputs": [],
   "source": [
    "# Transform a label so that 3 is represented by [0, 0, 0, 1.0, 0, 0, 0, 0, 0, 0] instead of just 3\n",
    "def one_hot(y):\n",
    "    desired_output = np.zeros((10, 1))\n",
    "    desired_output[y] = 1.0\n",
    "    return desired_output"
   ],
   "metadata": {
    "collapsed": false
   }
  },
  {
   "cell_type": "code",
   "execution_count": 139,
   "outputs": [
    {
     "data": {
      "text/plain": "array([[0., 0., 0., ..., 0., 0., 0.],\n       [0., 0., 0., ..., 0., 0., 0.],\n       [0., 0., 0., ..., 0., 0., 0.],\n       ...,\n       [1., 1., 0., ..., 0., 0., 0.],\n       [0., 0., 1., ..., 1., 0., 0.],\n       [0., 0., 0., ..., 0., 0., 0.]])"
     },
     "execution_count": 139,
     "metadata": {},
     "output_type": "execute_result"
    }
   ],
   "source": [
    "# Transform our labels so that 3 is represented by [0, 0, 0, 1.0, 0, 0, 0, 0, 0, 0] instead of just 3\n",
    "# Each column is one example\n",
    "one_hot_Y = np.array([one_hot(y) for y in Y]).T.reshape((10, 41000))\n",
    "one_hot_Y"
   ],
   "metadata": {
    "collapsed": false
   }
  },
  {
   "cell_type": "markdown",
   "source": [
    "### Setup of weights and biases\n",
    "##### This will depend on the # of layers and the # of neurons in each of them.\n",
    "##### We will have 1 hidden layer with 30 neurons and 1 output layer with 10 neurons"
   ],
   "metadata": {
    "collapsed": false
   }
  },
  {
   "cell_type": "code",
   "execution_count": 140,
   "outputs": [],
   "source": [
    "W1 = np.random.rand(30, 784) - 0.5\n",
    "b1 = np.random.rand(30, 1)   - 0.5\n",
    "W2 = np.random.rand(10, 30)  - 0.5\n",
    "b2 = np.random.rand(10, 1)   - 0.5"
   ],
   "metadata": {
    "collapsed": false
   }
  },
  {
   "cell_type": "markdown",
   "source": [
    "### Helper functions\n"
   ],
   "metadata": {
    "collapsed": false
   }
  },
  {
   "cell_type": "code",
   "execution_count": 141,
   "outputs": [],
   "source": [
    "def sigmoid(Z):\n",
    "    # Sigmoid function, applied elementwise if z is a matrix\n",
    "    return 1.0 / (1.0 + np.exp(-Z))\n",
    "\n",
    "def sigmoid_derivative(Z):\n",
    "    # sigmoid(z) * (1 - sigmoid(z))\n",
    "    # sigmoig(z) = activation so we can do it like below\n",
    "    return sigmoid(Z) * (1.0 - sigmoid(Z))\n"
   ],
   "metadata": {
    "collapsed": false
   }
  },
  {
   "cell_type": "code",
   "execution_count": 142,
   "outputs": [],
   "source": [
    "def cost(A, Y):\n",
    "    return np.power((A - Y) / 2, 2)\n",
    "\n",
    "def cost_derivative(A, Y):\n",
    "    return A - Y"
   ],
   "metadata": {
    "collapsed": false
   }
  },
  {
   "cell_type": "code",
   "execution_count": 143,
   "outputs": [],
   "source": [
    "def calculate_accuracy(output, expected):\n",
    "    max_indices = np.argmax(A2, axis=0)\n",
    "    print(np.sum(max_indices == expected) / len(expected))"
   ],
   "metadata": {
    "collapsed": false
   }
  },
  {
   "cell_type": "markdown",
   "source": [
    "## Stochastic Gradient Descent"
   ],
   "metadata": {
    "collapsed": false
   }
  },
  {
   "cell_type": "code",
   "execution_count": 159,
   "outputs": [
    {
     "name": "stdout",
     "output_type": "stream",
     "text": [
      "0.841\n",
      "0.843\n",
      "0.835\n",
      "0.838\n",
      "0.834\n",
      "0.83\n",
      "0.825\n",
      "0.834\n",
      "0.841\n",
      "0.83\n"
     ]
    }
   ],
   "source": [
    "epochs = 1000\n",
    "sample_size = 100\n",
    "learning_rate = 0.5\n",
    "for epoch in range(epochs):\n",
    "    random_int = np.random.randint(sample_size, 42001)\n",
    "\n",
    "    X_sample = X[:, random_int - sample_size : random_int]\n",
    "    one_hot_Y_sample = one_hot_Y[:, random_int - sample_size : random_int]\n",
    "\n",
    "    # Feedforward\n",
    "    # Calculate activations in the first and second layer.\n",
    "    # A1 & A2 contain activations in respective layers for each example\n",
    "    Z1 = np.dot(W1, X_sample) + b1\n",
    "    A1 = sigmoid(Z1)\n",
    "    Z2 = np.dot(W2, A1) + b2\n",
    "    A2 = sigmoid(Z2)\n",
    "\n",
    "    # calculate_accuracy(A2, inputs_labels)\n",
    "    error_A2 = cost_derivative(A2, one_hot_Y_sample) * sigmoid_derivative(Z2)\n",
    "    error_A1 = np.dot(W2.T, error_A2)\n",
    "\n",
    "    # Gradient descent\n",
    "    delta_W2 = np.dot(error_A2, A1.T)        / sample_size\n",
    "    delta_W1 = np.dot(error_A1, X_sample.T)  / sample_size\n",
    "    delta_b2 = np.sum(error_A2)              / sample_size\n",
    "    delta_b1 = np.sum(error_A1)              / sample_size\n",
    "\n",
    "    # Update weights and biases\n",
    "    W1 = W1 - delta_W1 * learning_rate\n",
    "    W2 = W2 - delta_W2 * learning_rate\n",
    "    b1 = b1 - delta_b1 * learning_rate\n",
    "    b2 = b2 - delta_b2 * learning_rate\n",
    "\n",
    "    # Feedforward => testing\n",
    "    Z1 = np.dot(W1, X_test) + b1\n",
    "    A1 = sigmoid(Z1)\n",
    "    Z2 = np.dot(W2, A1) + b2\n",
    "    A2 = sigmoid(Z2)\n",
    "\n",
    "    if epoch % 100 == 0:\n",
    "        calculate_accuracy(A2, Y_test)"
   ],
   "metadata": {
    "collapsed": false
   }
  },
  {
   "cell_type": "code",
   "execution_count": 162,
   "outputs": [],
   "source": [
    "def test_weights_and_biases(idx):\n",
    "    current_image = X[:, idx, None]\n",
    "\n",
    "    Z1 = np.dot(W1, current_image) + b1\n",
    "    A1 = sigmoid(Z1)\n",
    "    Z2 = np.dot(W2, A1) + b2\n",
    "    A2 = sigmoid(Z2)\n",
    "\n",
    "    label = Y[idx]\n",
    "\n",
    "    print(\"Prediction: \", np.argmax(A2))\n",
    "    print(\"Label:      \", label)\n",
    "\n",
    "    current_image = current_image.reshape((28, 28)) * 255\n",
    "    plt.gray()\n",
    "    plt.imshow(current_image, interpolation='nearest')\n",
    "    plt.show()"
   ],
   "metadata": {
    "collapsed": false
   }
  },
  {
   "cell_type": "code",
   "execution_count": 163,
   "outputs": [
    {
     "name": "stdout",
     "output_type": "stream",
     "text": [
      "Prediction:  6\n",
      "Label:       6\n"
     ]
    },
    {
     "data": {
      "text/plain": "<Figure size 640x480 with 1 Axes>",
      "image/png": "[encoded data removed]"
     },
     "metadata": {},
     "output_type": "display_data"
    }
   ],
   "source": [
    "test_weights_and_biases(40121)"
   ],
   "metadata": {
    "collapsed": false
   }
  },
  {
   "cell_type": "markdown",
   "source": [],
   "metadata": {
    "collapsed": false
   }
  }
 ],
 "metadata": {
  "kernelspec": {
   "display_name": "Python 3",
   "language": "python",
   "name": "python3"
  },
  "language_info": {
   "codemirror_mode": {
    "name": "ipython",
    "version": 2
   },
   "file_extension": ".py",
   "mimetype": "text/x-python",
   "name": "python",
   "nbconvert_exporter": "python",
   "pygments_lexer": "ipython2",
   "version": "2.7.6"
  }
 },
 "nbformat": 4,
 "nbformat_minor": 0
}
