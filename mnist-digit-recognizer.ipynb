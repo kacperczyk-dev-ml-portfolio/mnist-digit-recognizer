{
 "cells": [
  {
   "cell_type": "markdown",
   "source": [
    "# Digit Recognizer - MNIST\n",
    "##### https://www.kaggle.com/competitions/digit-recognizer"
   ],
   "metadata": {
    "collapsed": false
   }
  },
  {
   "cell_type": "markdown",
   "source": [
    "### Imports\n"
   ],
   "metadata": {
    "collapsed": false
   }
  },
  {
   "cell_type": "code",
   "execution_count": 187,
   "outputs": [],
   "source": [
    "import pandas as pd\n",
    "import numpy as np\n",
    "from matplotlib import pyplot as plt"
   ],
   "metadata": {
    "collapsed": false
   }
  },
  {
   "cell_type": "markdown",
   "source": [
    "### Load Data"
   ],
   "metadata": {
    "collapsed": false
   }
  },
  {
   "cell_type": "code",
   "execution_count": 188,
   "outputs": [
    {
     "data": {
      "text/plain": "   label  pixel0  pixel1  pixel2  pixel3  pixel4  pixel5  pixel6  pixel7  \\\n0      1       0       0       0       0       0       0       0       0   \n1      0       0       0       0       0       0       0       0       0   \n2      1       0       0       0       0       0       0       0       0   \n3      4       0       0       0       0       0       0       0       0   \n4      0       0       0       0       0       0       0       0       0   \n\n   pixel8  ...  pixel774  pixel775  pixel776  pixel777  pixel778  pixel779  \\\n0       0  ...         0         0         0         0         0         0   \n1       0  ...         0         0         0         0         0         0   \n2       0  ...         0         0         0         0         0         0   \n3       0  ...         0         0         0         0         0         0   \n4       0  ...         0         0         0         0         0         0   \n\n   pixel780  pixel781  pixel782  pixel783  \n0         0         0         0         0  \n1         0         0         0         0  \n2         0         0         0         0  \n3         0         0         0         0  \n4         0         0         0         0  \n\n[5 rows x 785 columns]",
      "text/html": "<div>\n<style scoped>\n    .dataframe tbody tr th:only-of-type {\n        vertical-align: middle;\n    }\n\n    .dataframe tbody tr th {\n        vertical-align: top;\n    }\n\n    .dataframe thead th {\n        text-align: right;\n    }\n</style>\n<table border=\"1\" class=\"dataframe\">\n  <thead>\n    <tr style=\"text-align: right;\">\n      <th></th>\n      <th>label</th>\n      <th>pixel0</th>\n      <th>pixel1</th>\n      <th>pixel2</th>\n      <th>pixel3</th>\n      <th>pixel4</th>\n      <th>pixel5</th>\n      <th>pixel6</th>\n      <th>pixel7</th>\n      <th>pixel8</th>\n      <th>...</th>\n      <th>pixel774</th>\n      <th>pixel775</th>\n      <th>pixel776</th>\n      <th>pixel777</th>\n      <th>pixel778</th>\n      <th>pixel779</th>\n      <th>pixel780</th>\n      <th>pixel781</th>\n      <th>pixel782</th>\n      <th>pixel783</th>\n    </tr>\n  </thead>\n  <tbody>\n    <tr>\n      <th>0</th>\n      <td>1</td>\n      <td>0</td>\n      <td>0</td>\n      <td>0</td>\n      <td>0</td>\n      <td>0</td>\n      <td>0</td>\n      <td>0</td>\n      <td>0</td>\n      <td>0</td>\n      <td>...</td>\n      <td>0</td>\n      <td>0</td>\n      <td>0</td>\n      <td>0</td>\n      <td>0</td>\n      <td>0</td>\n      <td>0</td>\n      <td>0</td>\n      <td>0</td>\n      <td>0</td>\n    </tr>\n    <tr>\n      <th>1</th>\n      <td>0</td>\n      <td>0</td>\n      <td>0</td>\n      <td>0</td>\n      <td>0</td>\n      <td>0</td>\n      <td>0</td>\n      <td>0</td>\n      <td>0</td>\n      <td>0</td>\n      <td>...</td>\n      <td>0</td>\n      <td>0</td>\n      <td>0</td>\n      <td>0</td>\n      <td>0</td>\n      <td>0</td>\n      <td>0</td>\n      <td>0</td>\n      <td>0</td>\n      <td>0</td>\n    </tr>\n    <tr>\n      <th>2</th>\n      <td>1</td>\n      <td>0</td>\n      <td>0</td>\n      <td>0</td>\n      <td>0</td>\n      <td>0</td>\n      <td>0</td>\n      <td>0</td>\n      <td>0</td>\n      <td>0</td>\n      <td>...</td>\n      <td>0</td>\n      <td>0</td>\n      <td>0</td>\n      <td>0</td>\n      <td>0</td>\n      <td>0</td>\n      <td>0</td>\n      <td>0</td>\n      <td>0</td>\n      <td>0</td>\n    </tr>\n    <tr>\n      <th>3</th>\n      <td>4</td>\n      <td>0</td>\n      <td>0</td>\n      <td>0</td>\n      <td>0</td>\n      <td>0</td>\n      <td>0</td>\n      <td>0</td>\n      <td>0</td>\n      <td>0</td>\n      <td>...</td>\n      <td>0</td>\n      <td>0</td>\n      <td>0</td>\n      <td>0</td>\n      <td>0</td>\n      <td>0</td>\n      <td>0</td>\n      <td>0</td>\n      <td>0</td>\n      <td>0</td>\n    </tr>\n    <tr>\n      <th>4</th>\n      <td>0</td>\n      <td>0</td>\n      <td>0</td>\n      <td>0</td>\n      <td>0</td>\n      <td>0</td>\n      <td>0</td>\n      <td>0</td>\n      <td>0</td>\n      <td>0</td>\n      <td>...</td>\n      <td>0</td>\n      <td>0</td>\n      <td>0</td>\n      <td>0</td>\n      <td>0</td>\n      <td>0</td>\n      <td>0</td>\n      <td>0</td>\n      <td>0</td>\n      <td>0</td>\n    </tr>\n  </tbody>\n</table>\n<p>5 rows × 785 columns</p>\n</div>"
     },
     "execution_count": 188,
     "metadata": {},
     "output_type": "execute_result"
    }
   ],
   "source": [
    "# In each row, first column contains a label (digit). The remainder 784 columns (28px x 28px image) contain pixel values of 0-255.\n",
    "mnist_data = pd.read_csv(\"data/train.csv\")\n",
    "mnist_data.head()"
   ],
   "metadata": {
    "collapsed": false
   }
  },
  {
   "cell_type": "markdown",
   "source": [
    "### Transform Data"
   ],
   "metadata": {
    "collapsed": false
   }
  },
  {
   "cell_type": "code",
   "execution_count": 189,
   "outputs": [
    {
     "data": {
      "text/plain": "       label  pixel0  pixel1  pixel2  pixel3  pixel4  pixel5  pixel6  pixel7  \\\n31598      6       0       0       0       0       0       0       0       0   \n3777       0       0       0       0       0       0       0       0       0   \n10529      1       0       0       0       0       0       0       0       0   \n26562      9       0       0       0       0       0       0       0       0   \n354        2       0       0       0       0       0       0       0       0   \n...      ...     ...     ...     ...     ...     ...     ...     ...     ...   \n32976      0       0       0       0       0       0       0       0       0   \n4260       1       0       0       0       0       0       0       0       0   \n4455       7       0       0       0       0       0       0       0       0   \n8224       9       0       0       0       0       0       0       0       0   \n39927      4       0       0       0       0       0       0       0       0   \n\n       pixel8  ...  pixel774  pixel775  pixel776  pixel777  pixel778  \\\n31598       0  ...         0         0         0         0         0   \n3777        0  ...         0         0         0         0         0   \n10529       0  ...         0         0         0         0         0   \n26562       0  ...         0         0         0         0         0   \n354         0  ...         0         0         0         0         0   \n...       ...  ...       ...       ...       ...       ...       ...   \n32976       0  ...         0         0         0         0         0   \n4260        0  ...         0         0         0         0         0   \n4455        0  ...         0         0         0         0         0   \n8224        0  ...         0         0         0         0         0   \n39927       0  ...         0         0         0         0         0   \n\n       pixel779  pixel780  pixel781  pixel782  pixel783  \n31598         0         0         0         0         0  \n3777          0         0         0         0         0  \n10529         0         0         0         0         0  \n26562         0         0         0         0         0  \n354           0         0         0         0         0  \n...         ...       ...       ...       ...       ...  \n32976         0         0         0         0         0  \n4260          0         0         0         0         0  \n4455          0         0         0         0         0  \n8224          0         0         0         0         0  \n39927         0         0         0         0         0  \n\n[42000 rows x 785 columns]",
      "text/html": "<div>\n<style scoped>\n    .dataframe tbody tr th:only-of-type {\n        vertical-align: middle;\n    }\n\n    .dataframe tbody tr th {\n        vertical-align: top;\n    }\n\n    .dataframe thead th {\n        text-align: right;\n    }\n</style>\n<table border=\"1\" class=\"dataframe\">\n  <thead>\n    <tr style=\"text-align: right;\">\n      <th></th>\n      <th>label</th>\n      <th>pixel0</th>\n      <th>pixel1</th>\n      <th>pixel2</th>\n      <th>pixel3</th>\n      <th>pixel4</th>\n      <th>pixel5</th>\n      <th>pixel6</th>\n      <th>pixel7</th>\n      <th>pixel8</th>\n      <th>...</th>\n      <th>pixel774</th>\n      <th>pixel775</th>\n      <th>pixel776</th>\n      <th>pixel777</th>\n      <th>pixel778</th>\n      <th>pixel779</th>\n      <th>pixel780</th>\n      <th>pixel781</th>\n      <th>pixel782</th>\n      <th>pixel783</th>\n    </tr>\n  </thead>\n  <tbody>\n    <tr>\n      <th>31598</th>\n      <td>6</td>\n      <td>0</td>\n      <td>0</td>\n      <td>0</td>\n      <td>0</td>\n      <td>0</td>\n      <td>0</td>\n      <td>0</td>\n      <td>0</td>\n      <td>0</td>\n      <td>...</td>\n      <td>0</td>\n      <td>0</td>\n      <td>0</td>\n      <td>0</td>\n      <td>0</td>\n      <td>0</td>\n      <td>0</td>\n      <td>0</td>\n      <td>0</td>\n      <td>0</td>\n    </tr>\n    <tr>\n      <th>3777</th>\n      <td>0</td>\n      <td>0</td>\n      <td>0</td>\n      <td>0</td>\n      <td>0</td>\n      <td>0</td>\n      <td>0</td>\n      <td>0</td>\n      <td>0</td>\n      <td>0</td>\n      <td>...</td>\n      <td>0</td>\n      <td>0</td>\n      <td>0</td>\n      <td>0</td>\n      <td>0</td>\n      <td>0</td>\n      <td>0</td>\n      <td>0</td>\n      <td>0</td>\n      <td>0</td>\n    </tr>\n    <tr>\n      <th>10529</th>\n      <td>1</td>\n      <td>0</td>\n      <td>0</td>\n      <td>0</td>\n      <td>0</td>\n      <td>0</td>\n      <td>0</td>\n      <td>0</td>\n      <td>0</td>\n      <td>0</td>\n      <td>...</td>\n      <td>0</td>\n      <td>0</td>\n      <td>0</td>\n      <td>0</td>\n      <td>0</td>\n      <td>0</td>\n      <td>0</td>\n      <td>0</td>\n      <td>0</td>\n      <td>0</td>\n    </tr>\n    <tr>\n      <th>26562</th>\n      <td>9</td>\n      <td>0</td>\n      <td>0</td>\n      <td>0</td>\n      <td>0</td>\n      <td>0</td>\n      <td>0</td>\n      <td>0</td>\n      <td>0</td>\n      <td>0</td>\n      <td>...</td>\n      <td>0</td>\n      <td>0</td>\n      <td>0</td>\n      <td>0</td>\n      <td>0</td>\n      <td>0</td>\n      <td>0</td>\n      <td>0</td>\n      <td>0</td>\n      <td>0</td>\n    </tr>\n    <tr>\n      <th>354</th>\n      <td>2</td>\n      <td>0</td>\n      <td>0</td>\n      <td>0</td>\n      <td>0</td>\n      <td>0</td>\n      <td>0</td>\n      <td>0</td>\n      <td>0</td>\n      <td>0</td>\n      <td>...</td>\n      <td>0</td>\n      <td>0</td>\n      <td>0</td>\n      <td>0</td>\n      <td>0</td>\n      <td>0</td>\n      <td>0</td>\n      <td>0</td>\n      <td>0</td>\n      <td>0</td>\n    </tr>\n    <tr>\n      <th>...</th>\n      <td>...</td>\n      <td>...</td>\n      <td>...</td>\n      <td>...</td>\n      <td>...</td>\n      <td>...</td>\n      <td>...</td>\n      <td>...</td>\n      <td>...</td>\n      <td>...</td>\n      <td>...</td>\n      <td>...</td>\n      <td>...</td>\n      <td>...</td>\n      <td>...</td>\n      <td>...</td>\n      <td>...</td>\n      <td>...</td>\n      <td>...</td>\n      <td>...</td>\n      <td>...</td>\n    </tr>\n    <tr>\n      <th>32976</th>\n      <td>0</td>\n      <td>0</td>\n      <td>0</td>\n      <td>0</td>\n      <td>0</td>\n      <td>0</td>\n      <td>0</td>\n      <td>0</td>\n      <td>0</td>\n      <td>0</td>\n      <td>...</td>\n      <td>0</td>\n      <td>0</td>\n      <td>0</td>\n      <td>0</td>\n      <td>0</td>\n      <td>0</td>\n      <td>0</td>\n      <td>0</td>\n      <td>0</td>\n      <td>0</td>\n    </tr>\n    <tr>\n      <th>4260</th>\n      <td>1</td>\n      <td>0</td>\n      <td>0</td>\n      <td>0</td>\n      <td>0</td>\n      <td>0</td>\n      <td>0</td>\n      <td>0</td>\n      <td>0</td>\n      <td>0</td>\n      <td>...</td>\n      <td>0</td>\n      <td>0</td>\n      <td>0</td>\n      <td>0</td>\n      <td>0</td>\n      <td>0</td>\n      <td>0</td>\n      <td>0</td>\n      <td>0</td>\n      <td>0</td>\n    </tr>\n    <tr>\n      <th>4455</th>\n      <td>7</td>\n      <td>0</td>\n      <td>0</td>\n      <td>0</td>\n      <td>0</td>\n      <td>0</td>\n      <td>0</td>\n      <td>0</td>\n      <td>0</td>\n      <td>0</td>\n      <td>...</td>\n      <td>0</td>\n      <td>0</td>\n      <td>0</td>\n      <td>0</td>\n      <td>0</td>\n      <td>0</td>\n      <td>0</td>\n      <td>0</td>\n      <td>0</td>\n      <td>0</td>\n    </tr>\n    <tr>\n      <th>8224</th>\n      <td>9</td>\n      <td>0</td>\n      <td>0</td>\n      <td>0</td>\n      <td>0</td>\n      <td>0</td>\n      <td>0</td>\n      <td>0</td>\n      <td>0</td>\n      <td>0</td>\n      <td>...</td>\n      <td>0</td>\n      <td>0</td>\n      <td>0</td>\n      <td>0</td>\n      <td>0</td>\n      <td>0</td>\n      <td>0</td>\n      <td>0</td>\n      <td>0</td>\n      <td>0</td>\n    </tr>\n    <tr>\n      <th>39927</th>\n      <td>4</td>\n      <td>0</td>\n      <td>0</td>\n      <td>0</td>\n      <td>0</td>\n      <td>0</td>\n      <td>0</td>\n      <td>0</td>\n      <td>0</td>\n      <td>0</td>\n      <td>...</td>\n      <td>0</td>\n      <td>0</td>\n      <td>0</td>\n      <td>0</td>\n      <td>0</td>\n      <td>0</td>\n      <td>0</td>\n      <td>0</td>\n      <td>0</td>\n      <td>0</td>\n    </tr>\n  </tbody>\n</table>\n<p>42000 rows × 785 columns</p>\n</div>"
     },
     "execution_count": 189,
     "metadata": {},
     "output_type": "execute_result"
    }
   ],
   "source": [
    "# Shuffle data by rows\n",
    "mnist_data = mnist_data.sample(frac=1, axis=0)\n",
    "mnist_data"
   ],
   "metadata": {
    "collapsed": false
   }
  },
  {
   "cell_type": "code",
   "execution_count": 190,
   "outputs": [
    {
     "data": {
      "text/plain": "        31598  3777   10529  26562  354    16285  28559  29589  18555  41180  \\\nlabel       6      0      1      9      2      5      2      7      1      7   \npixel0      0      0      0      0      0      0      0      0      0      0   \npixel1      0      0      0      0      0      0      0      0      0      0   \npixel2      0      0      0      0      0      0      0      0      0      0   \npixel3      0      0      0      0      0      0      0      0      0      0   \n\n        ...  27229  5212   2980   16085  38265  32976  4260   4455   8224   \\\nlabel   ...      2      4      4      2      0      0      1      7      9   \npixel0  ...      0      0      0      0      0      0      0      0      0   \npixel1  ...      0      0      0      0      0      0      0      0      0   \npixel2  ...      0      0      0      0      0      0      0      0      0   \npixel3  ...      0      0      0      0      0      0      0      0      0   \n\n        39927  \nlabel       4  \npixel0      0  \npixel1      0  \npixel2      0  \npixel3      0  \n\n[5 rows x 42000 columns]",
      "text/html": "<div>\n<style scoped>\n    .dataframe tbody tr th:only-of-type {\n        vertical-align: middle;\n    }\n\n    .dataframe tbody tr th {\n        vertical-align: top;\n    }\n\n    .dataframe thead th {\n        text-align: right;\n    }\n</style>\n<table border=\"1\" class=\"dataframe\">\n  <thead>\n    <tr style=\"text-align: right;\">\n      <th></th>\n      <th>31598</th>\n      <th>3777</th>\n      <th>10529</th>\n      <th>26562</th>\n      <th>354</th>\n      <th>16285</th>\n      <th>28559</th>\n      <th>29589</th>\n      <th>18555</th>\n      <th>41180</th>\n      <th>...</th>\n      <th>27229</th>\n      <th>5212</th>\n      <th>2980</th>\n      <th>16085</th>\n      <th>38265</th>\n      <th>32976</th>\n      <th>4260</th>\n      <th>4455</th>\n      <th>8224</th>\n      <th>39927</th>\n    </tr>\n  </thead>\n  <tbody>\n    <tr>\n      <th>label</th>\n      <td>6</td>\n      <td>0</td>\n      <td>1</td>\n      <td>9</td>\n      <td>2</td>\n      <td>5</td>\n      <td>2</td>\n      <td>7</td>\n      <td>1</td>\n      <td>7</td>\n      <td>...</td>\n      <td>2</td>\n      <td>4</td>\n      <td>4</td>\n      <td>2</td>\n      <td>0</td>\n      <td>0</td>\n      <td>1</td>\n      <td>7</td>\n      <td>9</td>\n      <td>4</td>\n    </tr>\n    <tr>\n      <th>pixel0</th>\n      <td>0</td>\n      <td>0</td>\n      <td>0</td>\n      <td>0</td>\n      <td>0</td>\n      <td>0</td>\n      <td>0</td>\n      <td>0</td>\n      <td>0</td>\n      <td>0</td>\n      <td>...</td>\n      <td>0</td>\n      <td>0</td>\n      <td>0</td>\n      <td>0</td>\n      <td>0</td>\n      <td>0</td>\n      <td>0</td>\n      <td>0</td>\n      <td>0</td>\n      <td>0</td>\n    </tr>\n    <tr>\n      <th>pixel1</th>\n      <td>0</td>\n      <td>0</td>\n      <td>0</td>\n      <td>0</td>\n      <td>0</td>\n      <td>0</td>\n      <td>0</td>\n      <td>0</td>\n      <td>0</td>\n      <td>0</td>\n      <td>...</td>\n      <td>0</td>\n      <td>0</td>\n      <td>0</td>\n      <td>0</td>\n      <td>0</td>\n      <td>0</td>\n      <td>0</td>\n      <td>0</td>\n      <td>0</td>\n      <td>0</td>\n    </tr>\n    <tr>\n      <th>pixel2</th>\n      <td>0</td>\n      <td>0</td>\n      <td>0</td>\n      <td>0</td>\n      <td>0</td>\n      <td>0</td>\n      <td>0</td>\n      <td>0</td>\n      <td>0</td>\n      <td>0</td>\n      <td>...</td>\n      <td>0</td>\n      <td>0</td>\n      <td>0</td>\n      <td>0</td>\n      <td>0</td>\n      <td>0</td>\n      <td>0</td>\n      <td>0</td>\n      <td>0</td>\n      <td>0</td>\n    </tr>\n    <tr>\n      <th>pixel3</th>\n      <td>0</td>\n      <td>0</td>\n      <td>0</td>\n      <td>0</td>\n      <td>0</td>\n      <td>0</td>\n      <td>0</td>\n      <td>0</td>\n      <td>0</td>\n      <td>0</td>\n      <td>...</td>\n      <td>0</td>\n      <td>0</td>\n      <td>0</td>\n      <td>0</td>\n      <td>0</td>\n      <td>0</td>\n      <td>0</td>\n      <td>0</td>\n      <td>0</td>\n      <td>0</td>\n    </tr>\n  </tbody>\n</table>\n<p>5 rows × 42000 columns</p>\n</div>"
     },
     "execution_count": 190,
     "metadata": {},
     "output_type": "execute_result"
    }
   ],
   "source": [
    "# Transpose the data so that the first row will be equal to all the labels and the remainder of rows in each column will be the corresponding pixel value\n",
    "transposed_mnist_data = mnist_data.T\n",
    "transposed_mnist_data.head()"
   ],
   "metadata": {
    "collapsed": false
   }
  },
  {
   "cell_type": "code",
   "execution_count": 191,
   "outputs": [],
   "source": [
    "# Create NumPy array from Pandas dataframe\n",
    "mnist_data_arr = transposed_mnist_data.values"
   ],
   "metadata": {
    "collapsed": false
   }
  },
  {
   "cell_type": "code",
   "execution_count": 192,
   "outputs": [
    {
     "data": {
      "text/plain": "array([[6, 0, 1, ..., 7, 9, 4],\n       [0, 0, 0, ..., 0, 0, 0],\n       [0, 0, 0, ..., 0, 0, 0],\n       ...,\n       [0, 0, 0, ..., 0, 0, 0],\n       [0, 0, 0, ..., 0, 0, 0],\n       [0, 0, 0, ..., 0, 0, 0]])"
     },
     "execution_count": 192,
     "metadata": {},
     "output_type": "execute_result"
    }
   ],
   "source": [
    "mnist_data_arr"
   ],
   "metadata": {
    "collapsed": false
   }
  },
  {
   "cell_type": "markdown",
   "source": [
    "### Divide data into test and train sets"
   ],
   "metadata": {
    "collapsed": false
   }
  },
  {
   "cell_type": "code",
   "execution_count": 193,
   "outputs": [
    {
     "data": {
      "text/plain": "array([5, 4, 9, ..., 7, 9, 4])"
     },
     "execution_count": 193,
     "metadata": {},
     "output_type": "execute_result"
    }
   ],
   "source": [
    "# Y will contain 41000 labels that will be used for training the network.\n",
    "# Label = a number from 0 to 9.\n",
    "Y = mnist_data_arr[0, 1000:]\n",
    "Y"
   ],
   "metadata": {
    "collapsed": false
   }
  },
  {
   "cell_type": "code",
   "execution_count": 194,
   "outputs": [
    {
     "data": {
      "text/plain": "array([6, 0, 1, 9, 2, 5, 2, 7, 1, 7, 6, 9, 1, 4, 2, 9, 5, 1, 4, 8, 0, 0,\n       5, 5, 0, 8, 2, 5, 4, 7, 7, 1, 2, 5, 8, 6, 9, 3, 1, 9, 6, 1, 1, 3,\n       6, 7, 9, 7, 4, 0, 4, 3, 9, 9, 9, 0, 7, 9, 0, 1, 7, 6, 6, 5, 3, 4,\n       8, 7, 1, 4, 3, 9, 9, 2, 2, 9, 5, 9, 7, 2, 4, 5, 8, 7, 7, 2, 6, 1,\n       2, 7, 9, 3, 2, 7, 0, 9, 2, 8, 1, 9, 2, 1, 4, 9, 5, 1, 7, 0, 8, 9,\n       8, 6, 4, 6, 7, 2, 7, 6, 8, 2, 0, 6, 5, 1, 4, 7, 9, 8, 7, 3, 4, 2,\n       0, 1, 3, 4, 0, 2, 0, 9, 2, 2, 9, 5, 1, 3, 8, 1, 1, 4, 0, 9, 1, 0,\n       9, 9, 1, 5, 3, 8, 5, 6, 4, 5, 4, 7, 1, 0, 3, 6, 9, 4, 9, 3, 6, 5,\n       1, 9, 8, 7, 2, 9, 8, 3, 6, 9, 1, 9, 0, 9, 2, 4, 6, 4, 6, 2, 4, 3,\n       8, 4, 9, 0, 2, 5, 2, 7, 9, 8, 8, 0, 4, 0, 1, 7, 8, 0, 3, 3, 7, 5,\n       9, 3, 9, 7, 3, 8, 9, 4, 5, 9, 3, 4, 4, 5, 2, 9, 5, 6, 5, 8, 9, 7,\n       0, 5, 8, 1, 3, 3, 8, 4, 0, 9, 3, 3, 8, 5, 0, 6, 5, 8, 2, 2, 3, 3,\n       2, 2, 5, 8, 2, 4, 1, 9, 8, 3, 6, 9, 8, 0, 3, 0, 6, 3, 6, 0, 6, 1,\n       2, 1, 9, 3, 1, 4, 5, 4, 2, 2, 3, 2, 2, 5, 4, 1, 1, 9, 3, 7, 7, 2,\n       7, 5, 0, 6, 7, 1, 3, 1, 9, 5, 3, 2, 2, 5, 1, 8, 7, 7, 5, 3, 1, 3,\n       2, 1, 7, 5, 1, 4, 7, 7, 7, 2, 3, 0, 8, 4, 6, 5, 7, 0, 6, 2, 3, 5,\n       5, 9, 9, 3, 5, 5, 8, 4, 2, 4, 1, 8, 8, 9, 0, 6, 7, 6, 4, 9, 2, 2,\n       5, 4, 6, 1, 3, 5, 1, 1, 7, 8, 4, 4, 0, 3, 8, 9, 5, 3, 2, 2, 0, 0,\n       8, 5, 3, 2, 1, 3, 7, 1, 3, 9, 4, 0, 6, 4, 3, 4, 9, 6, 3, 1, 4, 4,\n       1, 3, 3, 6, 8, 2, 7, 7, 1, 0, 9, 2, 3, 0, 2, 2, 8, 1, 3, 9, 8, 3,\n       8, 5, 0, 1, 0, 4, 7, 5, 2, 3, 9, 3, 7, 4, 7, 6, 9, 8, 9, 5, 4, 7,\n       0, 6, 7, 8, 5, 9, 8, 6, 2, 3, 7, 9, 7, 2, 2, 0, 9, 1, 5, 8, 1, 8,\n       2, 9, 0, 1, 9, 9, 9, 1, 1, 0, 5, 3, 5, 8, 6, 9, 0, 5, 3, 3, 1, 6,\n       6, 3, 8, 6, 9, 0, 0, 1, 3, 1, 7, 9, 2, 6, 7, 2, 9, 6, 8, 8, 7, 6,\n       1, 6, 4, 7, 6, 9, 4, 0, 1, 8, 3, 2, 4, 9, 1, 2, 2, 7, 0, 5, 1, 1,\n       3, 0, 9, 9, 3, 0, 6, 3, 0, 6, 4, 3, 3, 5, 5, 2, 1, 0, 2, 9, 1, 2,\n       8, 1, 3, 7, 3, 1, 5, 5, 7, 1, 9, 9, 7, 0, 2, 7, 2, 2, 6, 6, 8, 5,\n       4, 8, 7, 6, 4, 1, 5, 7, 8, 2, 9, 7, 5, 6, 3, 7, 0, 7, 9, 0, 8, 8,\n       7, 9, 6, 6, 9, 7, 9, 7, 6, 2, 8, 3, 5, 0, 3, 9, 7, 3, 4, 9, 6, 1,\n       0, 8, 0, 9, 6, 4, 9, 2, 3, 7, 2, 3, 2, 7, 3, 8, 7, 0, 6, 1, 8, 9,\n       2, 5, 5, 1, 9, 9, 4, 7, 2, 9, 0, 0, 1, 8, 2, 3, 1, 6, 7, 5, 3, 7,\n       4, 0, 2, 7, 5, 4, 2, 4, 6, 0, 7, 6, 0, 9, 0, 8, 3, 9, 8, 6, 6, 3,\n       3, 2, 7, 3, 6, 2, 8, 3, 2, 2, 8, 9, 1, 7, 6, 0, 8, 1, 9, 4, 0, 7,\n       2, 4, 8, 0, 3, 8, 4, 6, 6, 4, 1, 0, 0, 5, 8, 4, 2, 1, 8, 1, 0, 1,\n       5, 9, 7, 3, 1, 8, 9, 0, 8, 1, 8, 3, 2, 4, 4, 9, 4, 8, 1, 3, 0, 0,\n       5, 7, 6, 2, 6, 0, 4, 3, 9, 8, 2, 3, 3, 8, 6, 6, 1, 5, 0, 7, 4, 8,\n       5, 1, 4, 3, 9, 6, 2, 1, 3, 8, 3, 4, 7, 6, 5, 0, 1, 1, 2, 3, 3, 1,\n       6, 6, 5, 1, 0, 7, 6, 3, 9, 0, 8, 9, 0, 5, 8, 7, 8, 6, 4, 0, 5, 9,\n       2, 9, 0, 4, 4, 7, 6, 3, 3, 2, 2, 4, 3, 0, 3, 1, 0, 5, 7, 5, 1, 1,\n       1, 3, 1, 9, 2, 2, 3, 8, 2, 3, 0, 6, 7, 6, 6, 7, 2, 5, 3, 5, 6, 6,\n       7, 5, 7, 8, 4, 9, 9, 1, 3, 3, 9, 3, 3, 1, 3, 3, 4, 0, 2, 1, 5, 9,\n       9, 3, 1, 6, 5, 0, 6, 3, 5, 4, 5, 4, 5, 9, 2, 5, 9, 9, 0, 7, 7, 6,\n       6, 2, 3, 8, 7, 1, 9, 2, 8, 2, 5, 9, 4, 8, 5, 1, 2, 4, 2, 9, 6, 8,\n       3, 1, 5, 8, 6, 1, 1, 4, 7, 1, 2, 0, 1, 9, 0, 1, 0, 2, 1, 3, 8, 5,\n       0, 5, 1, 2, 7, 0, 2, 8, 0, 5, 1, 8, 1, 1, 5, 9, 8, 4, 6, 2, 7, 3,\n       3, 1, 8, 6, 9, 2, 9, 7, 8, 6])"
     },
     "execution_count": 194,
     "metadata": {},
     "output_type": "execute_result"
    }
   ],
   "source": [
    "# Y_test contains 1000 labels that will be used to evaluate the network after each training epoch\n",
    "Y_test = mnist_data_arr[0, :1000]\n",
    "Y_test"
   ],
   "metadata": {
    "collapsed": false
   }
  },
  {
   "cell_type": "code",
   "execution_count": 195,
   "outputs": [
    {
     "data": {
      "text/plain": "array([[0., 0., 0., ..., 0., 0., 0.],\n       [0., 0., 0., ..., 0., 0., 0.],\n       [0., 0., 0., ..., 0., 0., 0.],\n       ...,\n       [0., 0., 0., ..., 0., 0., 0.],\n       [0., 0., 0., ..., 0., 0., 0.],\n       [0., 0., 0., ..., 0., 0., 0.]])"
     },
     "execution_count": 195,
     "metadata": {},
     "output_type": "execute_result"
    }
   ],
   "source": [
    "# X will contain 41000 columns, each representing one training examples, each column/example contains 784 pixel values.\n",
    "# Because the pixelvalues are between 0 and 255, and we want them to be between 0 and 1, we will divide by 255.0\n",
    "# Each column corresponds to one label from Y\n",
    "X = (mnist_data_arr[1:, 1000:] / 255.0)\n",
    "X"
   ],
   "metadata": {
    "collapsed": false
   }
  },
  {
   "cell_type": "code",
   "execution_count": 196,
   "outputs": [
    {
     "data": {
      "text/plain": "array([[0., 0., 0., ..., 0., 0., 0.],\n       [0., 0., 0., ..., 0., 0., 0.],\n       [0., 0., 0., ..., 0., 0., 0.],\n       ...,\n       [0., 0., 0., ..., 0., 0., 0.],\n       [0., 0., 0., ..., 0., 0., 0.],\n       [0., 0., 0., ..., 0., 0., 0.]])"
     },
     "execution_count": 196,
     "metadata": {},
     "output_type": "execute_result"
    }
   ],
   "source": [
    "# X_test contains examples just like X but in X_test's case there is only 1000 examples that correspond to the labels from Y_test\n",
    "X_test = (mnist_data_arr[1:, :1000] / 255.0)\n",
    "X_test"
   ],
   "metadata": {
    "collapsed": false
   }
  },
  {
   "cell_type": "code",
   "execution_count": 197,
   "outputs": [],
   "source": [
    "# Transform a label so that 3 is represented by a column vector of [0, 0, 0, 1.0, 0, 0, 0, 0, 0, 0] instead of just 3\n",
    "# This is needed because the output layer of our network contains 10 neurons, each representing a number from 0 to 9\n",
    "def one_hot(y):\n",
    "    desired_output = np.zeros((10, 1))\n",
    "    desired_output[y] = 1.0\n",
    "    return desired_output"
   ],
   "metadata": {
    "collapsed": false
   }
  },
  {
   "cell_type": "code",
   "execution_count": 198,
   "outputs": [
    {
     "data": {
      "text/plain": "array([[0., 0., 0., ..., 0., 0., 0.],\n       [0., 0., 0., ..., 0., 0., 0.],\n       [0., 0., 0., ..., 0., 0., 0.],\n       ...,\n       [0., 0., 0., ..., 1., 0., 0.],\n       [0., 0., 0., ..., 0., 0., 0.],\n       [0., 0., 1., ..., 0., 1., 0.]])"
     },
     "execution_count": 198,
     "metadata": {},
     "output_type": "execute_result"
    }
   ],
   "source": [
    "# Transform all our labels from Y using one_hot function defined above\n",
    "# Each column is one example\n",
    "one_hot_Y = np.array([one_hot(y) for y in Y]).T.reshape((10, 41000))\n",
    "one_hot_Y"
   ],
   "metadata": {
    "collapsed": false
   }
  },
  {
   "cell_type": "markdown",
   "source": [
    "### Setup of weights and biases\n",
    "##### This will depend on the # of layers and the # of neurons in each of them.\n",
    "##### We will have 1 hidden layer with 30 neurons and 1 output layer with 10 neurons\n",
    "##### Our input layer will be the MNIST date which is 784 rows (==neurons)"
   ],
   "metadata": {
    "collapsed": false
   }
  },
  {
   "cell_type": "code",
   "execution_count": 199,
   "outputs": [],
   "source": [
    "W1 = np.random.rand(30, 784) - 0.5 # Weights matrix between input layer and first layer\n",
    "W2 = np.random.rand(10, 30)  - 0.5 # Weights matrix between first layer and output layer\n",
    "b1 = np.random.rand(30, 1)   - 0.5 # Biases vector in first layer\n",
    "b2 = np.random.rand(10, 1)   - 0.5 # biases vector in output layer"
   ],
   "metadata": {
    "collapsed": false
   }
  },
  {
   "cell_type": "markdown",
   "source": [
    "### Helper functions\n",
    "##### Below functions are need to calculate the cost, activations, and errors"
   ],
   "metadata": {
    "collapsed": false
   }
  },
  {
   "cell_type": "code",
   "execution_count": 200,
   "outputs": [],
   "source": [
    "def sigmoid(Z):\n",
    "    # Sigmoid function, applied elementwise if z is a matrix\n",
    "    return 1.0 / (1.0 + np.exp(-Z))\n",
    "\n",
    "def sigmoid_derivative(Z):\n",
    "    # sigmoid(z) * (1 - sigmoid(z))\n",
    "    # sigmoig(z) = activation so we can do it like below\n",
    "    return sigmoid(Z) * (1.0 - sigmoid(Z))\n"
   ],
   "metadata": {
    "collapsed": false
   }
  },
  {
   "cell_type": "code",
   "execution_count": 201,
   "outputs": [],
   "source": [
    "def cost(A, Y):\n",
    "    return np.power((A - Y) / 2, 2)\n",
    "\n",
    "def cost_derivative(A, Y):\n",
    "    return A - Y"
   ],
   "metadata": {
    "collapsed": false
   }
  },
  {
   "cell_type": "markdown",
   "source": [
    "##### Below function will output % of predictions that match the expected output"
   ],
   "metadata": {
    "collapsed": false
   }
  },
  {
   "cell_type": "code",
   "execution_count": 202,
   "outputs": [],
   "source": [
    "def calculate_accuracy(predictions, expected):\n",
    "    max_indices = np.argmax(predictions, axis=0) # Transform each prediction (10 neurons from output layer) into one number between 0 and 9\n",
    "    print(np.sum(max_indices == expected) / len(expected) * 100, \"%\") # Calculate % of predictions that are correct"
   ],
   "metadata": {
    "collapsed": false
   }
  },
  {
   "cell_type": "markdown",
   "source": [
    "## Stochastic Gradient Descent\n",
    "#### Instead of going through all examples each time we take a random sampling of sample_size\n",
    "#### We will train our model n number of times, where n = epochs"
   ],
   "metadata": {
    "collapsed": false
   }
  },
  {
   "cell_type": "code",
   "execution_count": 203,
   "outputs": [
    {
     "name": "stdout",
     "output_type": "stream",
     "text": [
      "11.4 %\n",
      "68.30000000000001 %\n",
      "74.1 %\n",
      "78.0 %\n",
      "80.5 %\n",
      "82.1 %\n",
      "83.6 %\n",
      "83.89999999999999 %\n",
      "84.5 %\n",
      "84.3 %\n"
     ]
    }
   ],
   "source": [
    "# Setup hyperparameters\n",
    "epochs = 1000\n",
    "sample_size = 100\n",
    "learning_rate = 0.5\n",
    "\n",
    "for epoch in range(epochs):\n",
    "    # Create a random number between 1000 + sample_size and 41000, this is because the first 1000 examples from MNIST data are used for checking network's accuracy\n",
    "    random_int = np.random.randint(1000 + sample_size, 41001)\n",
    "\n",
    "    # Take a random sample of 100 examples from X\n",
    "    X_sample = X[:, random_int - sample_size : random_int]\n",
    "    # Take corresponding labels in one_hot form\n",
    "    one_hot_Y_sample = one_hot_Y[:, random_int - sample_size : random_int]\n",
    "\n",
    "    # Feedforward\n",
    "    #   Calculate activations in the first and second layer.\n",
    "    Z1 = np.dot(W1, X_sample) + b1\n",
    "    A1 = sigmoid(Z1)\n",
    "    Z2 = np.dot(W2, A1) + b2\n",
    "    A2 = sigmoid(Z2) # this will be our output\n",
    "\n",
    "    # Backpropagation\n",
    "    #   Calculate error in the output layer and backpropagate it to the first layer\n",
    "    error_A2 = cost_derivative(A2, one_hot_Y_sample) * sigmoid_derivative(Z2) # Fundamental equation of backpropagation #1\n",
    "    error_A1 = np.dot(W2.T, error_A2) # Fundamental equation of backpropagation #2\n",
    "\n",
    "    #   Gradient descent\n",
    "    #       Calculate how much does the cost function depend on each weight and bias\n",
    "    delta_W2 = np.dot(error_A2, A1.T)        / sample_size # Fundamental equation of backpropagation #4\n",
    "    delta_W1 = np.dot(error_A1, X_sample.T)  / sample_size # Fundamental equation of backpropagation #4\n",
    "    delta_b2 = np.sum(error_A2)              / sample_size # Fundamental equation of backpropagation #3\n",
    "    delta_b1 = np.sum(error_A1)              / sample_size # Fundamental equation of backpropagation #3\n",
    "    #       Use above calculations to adjust weights and biases accordingly\n",
    "    W1 = W1 - delta_W1 * learning_rate\n",
    "    W2 = W2 - delta_W2 * learning_rate\n",
    "    b1 = b1 - delta_b1 * learning_rate\n",
    "    b2 = b2 - delta_b2 * learning_rate\n",
    "\n",
    "    # Feedforward => checking accuracy using X_test data\n",
    "    # A2 will be the output for X_test\n",
    "    Z1 = np.dot(W1, X_test) + b1\n",
    "    A1 = sigmoid(Z1)\n",
    "    Z2 = np.dot(W2, A1) + b2\n",
    "    A2 = sigmoid(Z2)\n",
    "\n",
    "    # Every 100 iterations we will print the current accuracy of the network\n",
    "    if epoch % 100 == 0:\n",
    "        calculate_accuracy(A2, Y_test)"
   ],
   "metadata": {
    "collapsed": false
   }
  },
  {
   "cell_type": "markdown",
   "source": [
    "## Verifying\n",
    "### After all of the above cells are run our network will have weights and biases set\n",
    "### We can then use the below function to test those weights and biases to see how well the network performs"
   ],
   "metadata": {
    "collapsed": false
   }
  },
  {
   "cell_type": "code",
   "execution_count": 204,
   "outputs": [],
   "source": [
    "def test_weights_and_biases(idx):\n",
    "    current_image = X[:, idx, None]\n",
    "\n",
    "    Z1 = np.dot(W1, current_image) + b1\n",
    "    A1 = sigmoid(Z1)\n",
    "    Z2 = np.dot(W2, A1) + b2\n",
    "    A2 = sigmoid(Z2)\n",
    "\n",
    "    label = Y[idx]\n",
    "\n",
    "    print(\"Prediction: \", np.argmax(A2))\n",
    "    print(\"Label:      \", label)\n",
    "\n",
    "    current_image = current_image.reshape((28, 28)) * 255\n",
    "    plt.gray()\n",
    "    plt.imshow(current_image, interpolation='nearest')\n",
    "    plt.show()"
   ],
   "metadata": {
    "collapsed": false
   }
  },
  {
   "cell_type": "code",
   "execution_count": 205,
   "outputs": [
    {
     "name": "stdout",
     "output_type": "stream",
     "text": [
      "Prediction:  4\n",
      "Label:       4\n"
     ]
    },
    {
     "data": {
      "text/plain": "<Figure size 640x480 with 1 Axes>",
      "image/png": "[encoded data removed]"
     },
     "metadata": {},
     "output_type": "display_data"
    }
   ],
   "source": [
    "# We feed an index between 0 and 41000\n",
    "# The function outputs the following:\n",
    "# Prediction = what the network thinks the number is\n",
    "# Label      = the actual number\n",
    "# A 28x28 pixel photo of the number\n",
    "test_weights_and_biases(40121)"
   ],
   "metadata": {
    "collapsed": false
   }
  },
  {
   "cell_type": "markdown",
   "source": [],
   "metadata": {
    "collapsed": false
   }
  }
 ],
 "metadata": {
  "kernelspec": {
   "display_name": "Python 3",
   "language": "python",
   "name": "python3"
  },
  "language_info": {
   "codemirror_mode": {
    "name": "ipython",
    "version": 2
   },
   "file_extension": ".py",
   "mimetype": "text/x-python",
   "name": "python",
   "nbconvert_exporter": "python",
   "pygments_lexer": "ipython2",
   "version": "2.7.6"
  }
 },
 "nbformat": 4,
 "nbformat_minor": 0
}
